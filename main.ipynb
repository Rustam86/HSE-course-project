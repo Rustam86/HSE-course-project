{
  "nbformat": 4,
  "nbformat_minor": 0,
  "metadata": {
    "colab": {
      "provenance": [],
      "gpuType": "T4",
      "authorship_tag": "ABX9TyOs/kX8G/lkcJv7AxAGuzqD",
      "include_colab_link": true
    },
    "kernelspec": {
      "name": "python3",
      "display_name": "Python 3"
    },
    "language_info": {
      "name": "python"
    },
    "accelerator": "GPU",
    "widgets": {
      "application/vnd.jupyter.widget-state+json": {
        "11461d8a03c44b86979770300e8d10a9": {
          "model_module": "@jupyter-widgets/controls",
          "model_name": "HBoxModel",
          "model_module_version": "1.5.0",
          "state": {
            "_dom_classes": [],
            "_model_module": "@jupyter-widgets/controls",
            "_model_module_version": "1.5.0",
            "_model_name": "HBoxModel",
            "_view_count": null,
            "_view_module": "@jupyter-widgets/controls",
            "_view_module_version": "1.5.0",
            "_view_name": "HBoxView",
            "box_style": "",
            "children": [
              "IPY_MODEL_43120ad6c9af40cc8f29630e4fbe2163",
              "IPY_MODEL_23f6dd4b00a74e379651041ce738fd65",
              "IPY_MODEL_db9856b738a74c459113a16e760b206e"
            ],
            "layout": "IPY_MODEL_2793a216dbe341d6b4afc0954e584bd3"
          }
        },
        "43120ad6c9af40cc8f29630e4fbe2163": {
          "model_module": "@jupyter-widgets/controls",
          "model_name": "HTMLModel",
          "model_module_version": "1.5.0",
          "state": {
            "_dom_classes": [],
            "_model_module": "@jupyter-widgets/controls",
            "_model_module_version": "1.5.0",
            "_model_name": "HTMLModel",
            "_view_count": null,
            "_view_module": "@jupyter-widgets/controls",
            "_view_module_version": "1.5.0",
            "_view_name": "HTMLView",
            "description": "",
            "description_tooltip": null,
            "layout": "IPY_MODEL_f96334305c09447b8663b5bd6eca8e34",
            "placeholder": "​",
            "style": "IPY_MODEL_f9cbd748ce18439aba51aa6be4baf79b",
            "value": "Processing: 100%"
          }
        },
        "23f6dd4b00a74e379651041ce738fd65": {
          "model_module": "@jupyter-widgets/controls",
          "model_name": "FloatProgressModel",
          "model_module_version": "1.5.0",
          "state": {
            "_dom_classes": [],
            "_model_module": "@jupyter-widgets/controls",
            "_model_module_version": "1.5.0",
            "_model_name": "FloatProgressModel",
            "_view_count": null,
            "_view_module": "@jupyter-widgets/controls",
            "_view_module_version": "1.5.0",
            "_view_name": "ProgressView",
            "bar_style": "success",
            "description": "",
            "description_tooltip": null,
            "layout": "IPY_MODEL_39b8edd0024d416caeeea5bc6dcb401e",
            "max": 59,
            "min": 0,
            "orientation": "horizontal",
            "style": "IPY_MODEL_537c706ab9404903a6e37e384c07e91f",
            "value": 59
          }
        },
        "db9856b738a74c459113a16e760b206e": {
          "model_module": "@jupyter-widgets/controls",
          "model_name": "HTMLModel",
          "model_module_version": "1.5.0",
          "state": {
            "_dom_classes": [],
            "_model_module": "@jupyter-widgets/controls",
            "_model_module_version": "1.5.0",
            "_model_name": "HTMLModel",
            "_view_count": null,
            "_view_module": "@jupyter-widgets/controls",
            "_view_module_version": "1.5.0",
            "_view_name": "HTMLView",
            "description": "",
            "description_tooltip": null,
            "layout": "IPY_MODEL_e52e7d1d21994fc5b9d6c8723e66b1bc",
            "placeholder": "​",
            "style": "IPY_MODEL_d001e9d404d949c9883dac1e61643275",
            "value": " 59/59 [03:19&lt;00:00,  3.73s/sequence, sequence_id=KR902510.1]"
          }
        },
        "2793a216dbe341d6b4afc0954e584bd3": {
          "model_module": "@jupyter-widgets/base",
          "model_name": "LayoutModel",
          "model_module_version": "1.2.0",
          "state": {
            "_model_module": "@jupyter-widgets/base",
            "_model_module_version": "1.2.0",
            "_model_name": "LayoutModel",
            "_view_count": null,
            "_view_module": "@jupyter-widgets/base",
            "_view_module_version": "1.2.0",
            "_view_name": "LayoutView",
            "align_content": null,
            "align_items": null,
            "align_self": null,
            "border": null,
            "bottom": null,
            "display": null,
            "flex": null,
            "flex_flow": null,
            "grid_area": null,
            "grid_auto_columns": null,
            "grid_auto_flow": null,
            "grid_auto_rows": null,
            "grid_column": null,
            "grid_gap": null,
            "grid_row": null,
            "grid_template_areas": null,
            "grid_template_columns": null,
            "grid_template_rows": null,
            "height": null,
            "justify_content": null,
            "justify_items": null,
            "left": null,
            "margin": null,
            "max_height": null,
            "max_width": null,
            "min_height": null,
            "min_width": null,
            "object_fit": null,
            "object_position": null,
            "order": null,
            "overflow": null,
            "overflow_x": null,
            "overflow_y": null,
            "padding": null,
            "right": null,
            "top": null,
            "visibility": null,
            "width": null
          }
        },
        "f96334305c09447b8663b5bd6eca8e34": {
          "model_module": "@jupyter-widgets/base",
          "model_name": "LayoutModel",
          "model_module_version": "1.2.0",
          "state": {
            "_model_module": "@jupyter-widgets/base",
            "_model_module_version": "1.2.0",
            "_model_name": "LayoutModel",
            "_view_count": null,
            "_view_module": "@jupyter-widgets/base",
            "_view_module_version": "1.2.0",
            "_view_name": "LayoutView",
            "align_content": null,
            "align_items": null,
            "align_self": null,
            "border": null,
            "bottom": null,
            "display": null,
            "flex": null,
            "flex_flow": null,
            "grid_area": null,
            "grid_auto_columns": null,
            "grid_auto_flow": null,
            "grid_auto_rows": null,
            "grid_column": null,
            "grid_gap": null,
            "grid_row": null,
            "grid_template_areas": null,
            "grid_template_columns": null,
            "grid_template_rows": null,
            "height": null,
            "justify_content": null,
            "justify_items": null,
            "left": null,
            "margin": null,
            "max_height": null,
            "max_width": null,
            "min_height": null,
            "min_width": null,
            "object_fit": null,
            "object_position": null,
            "order": null,
            "overflow": null,
            "overflow_x": null,
            "overflow_y": null,
            "padding": null,
            "right": null,
            "top": null,
            "visibility": null,
            "width": null
          }
        },
        "f9cbd748ce18439aba51aa6be4baf79b": {
          "model_module": "@jupyter-widgets/controls",
          "model_name": "DescriptionStyleModel",
          "model_module_version": "1.5.0",
          "state": {
            "_model_module": "@jupyter-widgets/controls",
            "_model_module_version": "1.5.0",
            "_model_name": "DescriptionStyleModel",
            "_view_count": null,
            "_view_module": "@jupyter-widgets/base",
            "_view_module_version": "1.2.0",
            "_view_name": "StyleView",
            "description_width": ""
          }
        },
        "39b8edd0024d416caeeea5bc6dcb401e": {
          "model_module": "@jupyter-widgets/base",
          "model_name": "LayoutModel",
          "model_module_version": "1.2.0",
          "state": {
            "_model_module": "@jupyter-widgets/base",
            "_model_module_version": "1.2.0",
            "_model_name": "LayoutModel",
            "_view_count": null,
            "_view_module": "@jupyter-widgets/base",
            "_view_module_version": "1.2.0",
            "_view_name": "LayoutView",
            "align_content": null,
            "align_items": null,
            "align_self": null,
            "border": null,
            "bottom": null,
            "display": null,
            "flex": null,
            "flex_flow": null,
            "grid_area": null,
            "grid_auto_columns": null,
            "grid_auto_flow": null,
            "grid_auto_rows": null,
            "grid_column": null,
            "grid_gap": null,
            "grid_row": null,
            "grid_template_areas": null,
            "grid_template_columns": null,
            "grid_template_rows": null,
            "height": null,
            "justify_content": null,
            "justify_items": null,
            "left": null,
            "margin": null,
            "max_height": null,
            "max_width": null,
            "min_height": null,
            "min_width": null,
            "object_fit": null,
            "object_position": null,
            "order": null,
            "overflow": null,
            "overflow_x": null,
            "overflow_y": null,
            "padding": null,
            "right": null,
            "top": null,
            "visibility": null,
            "width": null
          }
        },
        "537c706ab9404903a6e37e384c07e91f": {
          "model_module": "@jupyter-widgets/controls",
          "model_name": "ProgressStyleModel",
          "model_module_version": "1.5.0",
          "state": {
            "_model_module": "@jupyter-widgets/controls",
            "_model_module_version": "1.5.0",
            "_model_name": "ProgressStyleModel",
            "_view_count": null,
            "_view_module": "@jupyter-widgets/base",
            "_view_module_version": "1.2.0",
            "_view_name": "StyleView",
            "bar_color": null,
            "description_width": ""
          }
        },
        "e52e7d1d21994fc5b9d6c8723e66b1bc": {
          "model_module": "@jupyter-widgets/base",
          "model_name": "LayoutModel",
          "model_module_version": "1.2.0",
          "state": {
            "_model_module": "@jupyter-widgets/base",
            "_model_module_version": "1.2.0",
            "_model_name": "LayoutModel",
            "_view_count": null,
            "_view_module": "@jupyter-widgets/base",
            "_view_module_version": "1.2.0",
            "_view_name": "LayoutView",
            "align_content": null,
            "align_items": null,
            "align_self": null,
            "border": null,
            "bottom": null,
            "display": null,
            "flex": null,
            "flex_flow": null,
            "grid_area": null,
            "grid_auto_columns": null,
            "grid_auto_flow": null,
            "grid_auto_rows": null,
            "grid_column": null,
            "grid_gap": null,
            "grid_row": null,
            "grid_template_areas": null,
            "grid_template_columns": null,
            "grid_template_rows": null,
            "height": null,
            "justify_content": null,
            "justify_items": null,
            "left": null,
            "margin": null,
            "max_height": null,
            "max_width": null,
            "min_height": null,
            "min_width": null,
            "object_fit": null,
            "object_position": null,
            "order": null,
            "overflow": null,
            "overflow_x": null,
            "overflow_y": null,
            "padding": null,
            "right": null,
            "top": null,
            "visibility": null,
            "width": null
          }
        },
        "d001e9d404d949c9883dac1e61643275": {
          "model_module": "@jupyter-widgets/controls",
          "model_name": "DescriptionStyleModel",
          "model_module_version": "1.5.0",
          "state": {
            "_model_module": "@jupyter-widgets/controls",
            "_model_module_version": "1.5.0",
            "_model_name": "DescriptionStyleModel",
            "_view_count": null,
            "_view_module": "@jupyter-widgets/base",
            "_view_module_version": "1.2.0",
            "_view_name": "StyleView",
            "description_width": ""
          }
        },
        "3a5f136f86cf4620831ccd0b74821f71": {
          "model_module": "@jupyter-widgets/controls",
          "model_name": "HBoxModel",
          "model_module_version": "1.5.0",
          "state": {
            "_dom_classes": [],
            "_model_module": "@jupyter-widgets/controls",
            "_model_module_version": "1.5.0",
            "_model_name": "HBoxModel",
            "_view_count": null,
            "_view_module": "@jupyter-widgets/controls",
            "_view_module_version": "1.5.0",
            "_view_name": "HBoxView",
            "box_style": "",
            "children": [
              "IPY_MODEL_093872a144c645939078447fb264589a",
              "IPY_MODEL_9dde5a13ca0b4a5d9d6db10b146207dd",
              "IPY_MODEL_dc975caa7e04492da92e3c5e42eeff07"
            ],
            "layout": "IPY_MODEL_28176821142d41fdb09a202356b5495b"
          }
        },
        "093872a144c645939078447fb264589a": {
          "model_module": "@jupyter-widgets/controls",
          "model_name": "HTMLModel",
          "model_module_version": "1.5.0",
          "state": {
            "_dom_classes": [],
            "_model_module": "@jupyter-widgets/controls",
            "_model_module_version": "1.5.0",
            "_model_name": "HTMLModel",
            "_view_count": null,
            "_view_module": "@jupyter-widgets/controls",
            "_view_module_version": "1.5.0",
            "_view_name": "HTMLView",
            "description": "",
            "description_tooltip": null,
            "layout": "IPY_MODEL_f176079db88c41298efddc28505d0dc9",
            "placeholder": "​",
            "style": "IPY_MODEL_343667505b0749a2beb665e770704681",
            "value": "Processing: 100%"
          }
        },
        "9dde5a13ca0b4a5d9d6db10b146207dd": {
          "model_module": "@jupyter-widgets/controls",
          "model_name": "FloatProgressModel",
          "model_module_version": "1.5.0",
          "state": {
            "_dom_classes": [],
            "_model_module": "@jupyter-widgets/controls",
            "_model_module_version": "1.5.0",
            "_model_name": "FloatProgressModel",
            "_view_count": null,
            "_view_module": "@jupyter-widgets/controls",
            "_view_module_version": "1.5.0",
            "_view_name": "ProgressView",
            "bar_style": "success",
            "description": "",
            "description_tooltip": null,
            "layout": "IPY_MODEL_729e00a27c5b40e3a05de0b3c28b988e",
            "max": 59,
            "min": 0,
            "orientation": "horizontal",
            "style": "IPY_MODEL_f0d4f52cccc0483d97466b4eb11468a7",
            "value": 59
          }
        },
        "dc975caa7e04492da92e3c5e42eeff07": {
          "model_module": "@jupyter-widgets/controls",
          "model_name": "HTMLModel",
          "model_module_version": "1.5.0",
          "state": {
            "_dom_classes": [],
            "_model_module": "@jupyter-widgets/controls",
            "_model_module_version": "1.5.0",
            "_model_name": "HTMLModel",
            "_view_count": null,
            "_view_module": "@jupyter-widgets/controls",
            "_view_module_version": "1.5.0",
            "_view_name": "HTMLView",
            "description": "",
            "description_tooltip": null,
            "layout": "IPY_MODEL_c4f7e34b960d4afa8b8171a5171d7229",
            "placeholder": "​",
            "style": "IPY_MODEL_f4571a5cb4994c61b5e444a9998be14c",
            "value": " 59/59 [00:31&lt;00:00,  2.13sequence/s, sequence_id=KR902510.1]"
          }
        },
        "28176821142d41fdb09a202356b5495b": {
          "model_module": "@jupyter-widgets/base",
          "model_name": "LayoutModel",
          "model_module_version": "1.2.0",
          "state": {
            "_model_module": "@jupyter-widgets/base",
            "_model_module_version": "1.2.0",
            "_model_name": "LayoutModel",
            "_view_count": null,
            "_view_module": "@jupyter-widgets/base",
            "_view_module_version": "1.2.0",
            "_view_name": "LayoutView",
            "align_content": null,
            "align_items": null,
            "align_self": null,
            "border": null,
            "bottom": null,
            "display": null,
            "flex": null,
            "flex_flow": null,
            "grid_area": null,
            "grid_auto_columns": null,
            "grid_auto_flow": null,
            "grid_auto_rows": null,
            "grid_column": null,
            "grid_gap": null,
            "grid_row": null,
            "grid_template_areas": null,
            "grid_template_columns": null,
            "grid_template_rows": null,
            "height": null,
            "justify_content": null,
            "justify_items": null,
            "left": null,
            "margin": null,
            "max_height": null,
            "max_width": null,
            "min_height": null,
            "min_width": null,
            "object_fit": null,
            "object_position": null,
            "order": null,
            "overflow": null,
            "overflow_x": null,
            "overflow_y": null,
            "padding": null,
            "right": null,
            "top": null,
            "visibility": null,
            "width": null
          }
        },
        "f176079db88c41298efddc28505d0dc9": {
          "model_module": "@jupyter-widgets/base",
          "model_name": "LayoutModel",
          "model_module_version": "1.2.0",
          "state": {
            "_model_module": "@jupyter-widgets/base",
            "_model_module_version": "1.2.0",
            "_model_name": "LayoutModel",
            "_view_count": null,
            "_view_module": "@jupyter-widgets/base",
            "_view_module_version": "1.2.0",
            "_view_name": "LayoutView",
            "align_content": null,
            "align_items": null,
            "align_self": null,
            "border": null,
            "bottom": null,
            "display": null,
            "flex": null,
            "flex_flow": null,
            "grid_area": null,
            "grid_auto_columns": null,
            "grid_auto_flow": null,
            "grid_auto_rows": null,
            "grid_column": null,
            "grid_gap": null,
            "grid_row": null,
            "grid_template_areas": null,
            "grid_template_columns": null,
            "grid_template_rows": null,
            "height": null,
            "justify_content": null,
            "justify_items": null,
            "left": null,
            "margin": null,
            "max_height": null,
            "max_width": null,
            "min_height": null,
            "min_width": null,
            "object_fit": null,
            "object_position": null,
            "order": null,
            "overflow": null,
            "overflow_x": null,
            "overflow_y": null,
            "padding": null,
            "right": null,
            "top": null,
            "visibility": null,
            "width": null
          }
        },
        "343667505b0749a2beb665e770704681": {
          "model_module": "@jupyter-widgets/controls",
          "model_name": "DescriptionStyleModel",
          "model_module_version": "1.5.0",
          "state": {
            "_model_module": "@jupyter-widgets/controls",
            "_model_module_version": "1.5.0",
            "_model_name": "DescriptionStyleModel",
            "_view_count": null,
            "_view_module": "@jupyter-widgets/base",
            "_view_module_version": "1.2.0",
            "_view_name": "StyleView",
            "description_width": ""
          }
        },
        "729e00a27c5b40e3a05de0b3c28b988e": {
          "model_module": "@jupyter-widgets/base",
          "model_name": "LayoutModel",
          "model_module_version": "1.2.0",
          "state": {
            "_model_module": "@jupyter-widgets/base",
            "_model_module_version": "1.2.0",
            "_model_name": "LayoutModel",
            "_view_count": null,
            "_view_module": "@jupyter-widgets/base",
            "_view_module_version": "1.2.0",
            "_view_name": "LayoutView",
            "align_content": null,
            "align_items": null,
            "align_self": null,
            "border": null,
            "bottom": null,
            "display": null,
            "flex": null,
            "flex_flow": null,
            "grid_area": null,
            "grid_auto_columns": null,
            "grid_auto_flow": null,
            "grid_auto_rows": null,
            "grid_column": null,
            "grid_gap": null,
            "grid_row": null,
            "grid_template_areas": null,
            "grid_template_columns": null,
            "grid_template_rows": null,
            "height": null,
            "justify_content": null,
            "justify_items": null,
            "left": null,
            "margin": null,
            "max_height": null,
            "max_width": null,
            "min_height": null,
            "min_width": null,
            "object_fit": null,
            "object_position": null,
            "order": null,
            "overflow": null,
            "overflow_x": null,
            "overflow_y": null,
            "padding": null,
            "right": null,
            "top": null,
            "visibility": null,
            "width": null
          }
        },
        "f0d4f52cccc0483d97466b4eb11468a7": {
          "model_module": "@jupyter-widgets/controls",
          "model_name": "ProgressStyleModel",
          "model_module_version": "1.5.0",
          "state": {
            "_model_module": "@jupyter-widgets/controls",
            "_model_module_version": "1.5.0",
            "_model_name": "ProgressStyleModel",
            "_view_count": null,
            "_view_module": "@jupyter-widgets/base",
            "_view_module_version": "1.2.0",
            "_view_name": "StyleView",
            "bar_color": null,
            "description_width": ""
          }
        },
        "c4f7e34b960d4afa8b8171a5171d7229": {
          "model_module": "@jupyter-widgets/base",
          "model_name": "LayoutModel",
          "model_module_version": "1.2.0",
          "state": {
            "_model_module": "@jupyter-widgets/base",
            "_model_module_version": "1.2.0",
            "_model_name": "LayoutModel",
            "_view_count": null,
            "_view_module": "@jupyter-widgets/base",
            "_view_module_version": "1.2.0",
            "_view_name": "LayoutView",
            "align_content": null,
            "align_items": null,
            "align_self": null,
            "border": null,
            "bottom": null,
            "display": null,
            "flex": null,
            "flex_flow": null,
            "grid_area": null,
            "grid_auto_columns": null,
            "grid_auto_flow": null,
            "grid_auto_rows": null,
            "grid_column": null,
            "grid_gap": null,
            "grid_row": null,
            "grid_template_areas": null,
            "grid_template_columns": null,
            "grid_template_rows": null,
            "height": null,
            "justify_content": null,
            "justify_items": null,
            "left": null,
            "margin": null,
            "max_height": null,
            "max_width": null,
            "min_height": null,
            "min_width": null,
            "object_fit": null,
            "object_position": null,
            "order": null,
            "overflow": null,
            "overflow_x": null,
            "overflow_y": null,
            "padding": null,
            "right": null,
            "top": null,
            "visibility": null,
            "width": null
          }
        },
        "f4571a5cb4994c61b5e444a9998be14c": {
          "model_module": "@jupyter-widgets/controls",
          "model_name": "DescriptionStyleModel",
          "model_module_version": "1.5.0",
          "state": {
            "_model_module": "@jupyter-widgets/controls",
            "_model_module_version": "1.5.0",
            "_model_name": "DescriptionStyleModel",
            "_view_count": null,
            "_view_module": "@jupyter-widgets/base",
            "_view_module_version": "1.2.0",
            "_view_name": "StyleView",
            "description_width": ""
          }
        }
      }
    }
  },
  "cells": [
    {
      "cell_type": "markdown",
      "metadata": {
        "id": "view-in-github",
        "colab_type": "text"
      },
      "source": [
        "<a href=\"https://colab.research.google.com/github/Rustam86/HSE-course-project/blob/main/main.ipynb\" target=\"_parent\"><img src=\"https://colab.research.google.com/assets/colab-badge.svg\" alt=\"Open In Colab\"/></a>"
      ]
    },
    {
      "cell_type": "markdown",
      "source": [
        "#Настройка окружения\n",
        "\n",
        "\n",
        "\n"
      ],
      "metadata": {
        "id": "jvX_8y90vtQT"
      }
    },
    {
      "cell_type": "code",
      "source": [
        "# Get file with Coronaviridae taxonomy information\n",
        "!wget https://raw.githubusercontent.com/Rustam86/HSE-course-project/main/Coronaviridae_taxonomic_info.csv"
      ],
      "metadata": {
        "id": "LKFVtKwfN3kZ"
      },
      "execution_count": null,
      "outputs": []
    },
    {
      "cell_type": "code",
      "execution_count": null,
      "metadata": {
        "id": "rAh-N1MyIulX"
      },
      "outputs": [],
      "source": [
        "!pip install biopython\n",
        "!pip install tqdm\n",
        "!pip install transformers\n",
        "!pip install ete3"
      ]
    },
    {
      "cell_type": "code",
      "source": [
        "# Install MAFFT\n",
        "!apt-get install mafft"
      ],
      "metadata": {
        "id": "ptaB8mZhRnRb"
      },
      "execution_count": null,
      "outputs": []
    },
    {
      "cell_type": "code",
      "source": [
        "!mafft --version"
      ],
      "metadata": {
        "colab": {
          "base_uri": "https://localhost:8080/"
        },
        "id": "ctRdkjFpve4U",
        "outputId": "d9096548-c153-433a-da72-0c68cbaf84ea"
      },
      "execution_count": 4,
      "outputs": [
        {
          "output_type": "stream",
          "name": "stdout",
          "text": [
            "v7.490 (2021/Oct/30)\n"
          ]
        }
      ]
    },
    {
      "cell_type": "code",
      "source": [
        "# Install TrimAl\n",
        "!git clone https://github.com/scapella/trimal.git\n",
        "%cd trimal/source\n",
        "!make"
      ],
      "metadata": {
        "id": "agTeHpIjvhAj"
      },
      "execution_count": null,
      "outputs": []
    },
    {
      "cell_type": "code",
      "source": [
        "!./trimal --version"
      ],
      "metadata": {
        "colab": {
          "base_uri": "https://localhost:8080/"
        },
        "id": "A_uEqxsPwWbO",
        "outputId": "c07efbf9-0e88-455d-e312-3cd7a7afb424"
      },
      "execution_count": 46,
      "outputs": [
        {
          "output_type": "stream",
          "name": "stdout",
          "text": [
            "/content/trimal/source\n",
            "\n",
            "trimAl v1.4.rev22 build[2015-05-21]\n",
            "\n"
          ]
        }
      ]
    },
    {
      "cell_type": "code",
      "source": [
        "# Install IQ-TREE\n",
        "%cd /content\n",
        "!apt-get install -y libeigen3-dev\n",
        "!git clone https://github.com/Cibiv/IQ-TREE.git\n",
        "%cd IQ-TREE\n",
        "!mkdir build\n",
        "%cd build\n",
        "!cmake ..\n",
        "!make -j4"
      ],
      "metadata": {
        "id": "ZyJqGeXbxWCZ"
      },
      "execution_count": null,
      "outputs": []
    },
    {
      "cell_type": "code",
      "source": [
        "!./iqtree --version"
      ],
      "metadata": {
        "colab": {
          "base_uri": "https://localhost:8080/"
        },
        "id": "KlI0XN-_xhon",
        "outputId": "b198315c-17e4-4270-c571-ef18e8024d40"
      },
      "execution_count": 55,
      "outputs": [
        {
          "output_type": "stream",
          "name": "stdout",
          "text": [
            "IQ-TREE multicore version 1.6.12 for Linux 64-bit built Aug 20 2023\n",
            "Developed by Bui Quang Minh, Nguyen Lam Tung, Olga Chernomor,\n",
            "Heiko Schmidt, Dominik Schrempf, Michael Woodhams.\n",
            "\n"
          ]
        }
      ]
    },
    {
      "cell_type": "code",
      "source": [
        "# \"Installing\" ZDNABERT\n",
        "%cd /content\n",
        "model = 'HG chipseq'\n",
        "model_id = '1VAsp8I904y_J0PUhAQqpSlCn1IqfG0FB'\n",
        "\n",
        "!gdown $model_id\n",
        "!gdown 10sF8Ywktd96HqAL0CwvlZZUUGj05CGk5\n",
        "!gdown 16bT7HDv71aRwyh3gBUbKwign1mtyLD2d\n",
        "!gdown 1EE9goZ2JRSD8UTx501q71lGCk-CK3kqG\n",
        "!gdown 1gZZdtAoDnDiLQqjQfGyuwt268Pe5sXW0\n",
        "\n",
        "\n",
        "!mkdir 6-new-12w-0\n",
        "!mv pytorch_model.bin 6-new-12w-0/\n",
        "!mv config.json 6-new-12w-0/\n",
        "!mv special_tokens_map.json 6-new-12w-0/\n",
        "!mv tokenizer_config.json 6-new-12w-0/\n",
        "!mv vocab.txt 6-new-12w-0/"
      ],
      "metadata": {
        "id": "771lmy0mPelg"
      },
      "execution_count": null,
      "outputs": []
    },
    {
      "cell_type": "code",
      "source": [
        "# \"Installing\" ZHUNT\n",
        "!wget https://raw.githubusercontent.com/Rustam86/HSE-course-project/main/zhunt3-alan.c\n",
        "!gcc zhunt3-alan.c -lm -o zhunt3\n",
        "!chmod +x /content/zhunt3"
      ],
      "metadata": {
        "id": "oee8Up72R50C"
      },
      "execution_count": null,
      "outputs": []
    },
    {
      "cell_type": "code",
      "source": [
        "import json\n",
        "import logging\n",
        "import os\n",
        "import sys\n",
        "import subprocess\n",
        "import tempfile\n",
        "import time\n",
        "from typing import Dict, List, Tuple, Callable, Optional\n",
        "\n",
        "from ete3 import ClusterTree\n",
        "import matplotlib\n",
        "import matplotlib.pyplot as plt\n",
        "import matplotlib.patches as patches\n",
        "import numpy as np\n",
        "import pandas as pd\n",
        "import scipy\n",
        "import seaborn as sns\n",
        "import torch\n",
        "import Bio\n",
        "from Bio import Entrez, SeqIO\n",
        "from matplotlib.lines import Line2D\n",
        "from scipy.spatial.distance import squareform\n",
        "from scipy.cluster.hierarchy import dendrogram, fcluster, linkage\n",
        "from scipy import ndimage, stats\n",
        "import sklearn\n",
        "from sklearn.linear_model import LinearRegression\n",
        "import torch\n",
        "from torch import nn\n",
        "import tqdm as tq\n",
        "from tqdm import tqdm\n",
        "import transformers\n",
        "from transformers import BertForTokenClassification, BertTokenizer\n"
      ],
      "metadata": {
        "id": "DIqZ5Pg7ewax"
      },
      "execution_count": 181,
      "outputs": []
    },
    {
      "cell_type": "code",
      "source": [
        "# Printing versions\n",
        "print(' '.join(f\"Python version: {sys.version}\".split()[:3]))\n",
        "print(f\"Matplotlib version: {matplotlib.__version__}\")\n",
        "print(f\"Numpy version: {np.__version__}\")\n",
        "print(f\"Pandas version: {pd.__version__}\")\n",
        "print(f\"Scipy version: {scipy.__version__}\")\n",
        "print(f\"Sklearn version: {sklearn.__version__}\")\n",
        "print(f\"Torch version: {torch.__version__}\")\n",
        "print(f\"Seaborn version: {sns.__version__}\")\n",
        "print(f\"PyTorch version: {torch.__version__}\")\n",
        "print(f\"Biopython version: {Bio.__version__}\")\n",
        "print(f\"TQDM version: {tq.__version__}\")\n",
        "print(f\"Transformers version: {transformers.__version__}\")"
      ],
      "metadata": {
        "colab": {
          "base_uri": "https://localhost:8080/"
        },
        "id": "1Y7Ke-0OllzN",
        "outputId": "41e6b93e-f35e-457c-dc97-487351d34e5a"
      },
      "execution_count": 10,
      "outputs": [
        {
          "output_type": "stream",
          "name": "stdout",
          "text": [
            "Python version: 3.10.12\n",
            "Matplotlib version: 3.7.1\n",
            "Numpy version: 1.23.5\n",
            "Pandas version: 1.5.3\n",
            "Scipy version: 1.10.1\n",
            "Sklearn version: 1.2.2\n",
            "Torch version: 2.0.1+cu118\n",
            "Seaborn version: 0.12.2\n",
            "PyTorch version: 2.0.1+cu118\n",
            "Biopython version: 1.81\n",
            "TQDM version: 4.66.1\n",
            "Transformers version: 4.31.0\n"
          ]
        }
      ]
    },
    {
      "cell_type": "markdown",
      "source": [
        "# Филогенетический анализ"
      ],
      "metadata": {
        "id": "X8sGOZCg28nN"
      }
    },
    {
      "cell_type": "code",
      "source": [
        "# Read the CSV using the correct delimiter ';'\n",
        "taxa_db = pd.read_csv(\"/content/Coronaviridae_taxonomic_info.csv\", encoding='ISO-8859-1', delimiter=';')"
      ],
      "metadata": {
        "id": "DYAyh_hEPgLy"
      },
      "execution_count": 11,
      "outputs": []
    },
    {
      "cell_type": "code",
      "source": [
        "taxa_db.head()"
      ],
      "metadata": {
        "colab": {
          "base_uri": "https://localhost:8080/",
          "height": 382
        },
        "id": "kFGRQu9oQaK9",
        "outputId": "43255363-3bd6-4305-e7c4-a91859b26bb0"
      },
      "execution_count": 12,
      "outputs": [
        {
          "output_type": "execute_result",
          "data": {
            "text/plain": [
              "            Subfamily             Genus      Subgenus  \\\n",
              "0         Letovirinae    Alphaletovirus   Milecovirus   \n",
              "1  Orthocoronavirinae  Alphacoronavirus  Amalacovirus   \n",
              "2  Orthocoronavirinae  Alphacoronavirus   Colacovirus   \n",
              "3  Orthocoronavirinae  Alphacoronavirus   Decacovirus   \n",
              "4  Orthocoronavirinae  Alphacoronavirus   Decacovirus   \n",
              "\n",
              "                   Species                                 Virus name  \\\n",
              "0    Microhyla letovirus 1                      Microhyla letovirus 1   \n",
              "1   Alphacoronavirus AMALF       bat alphacoronavirus isolate AMA_L_F   \n",
              "2  Bat coronavirus CDPHE15                    bat coronavirus CDPHE15   \n",
              "3   Alphacoronavirus CHB25  Hipposideros pomona bat coronavirus CHB25   \n",
              "4  Alphacoronavirus WA3607                alphacoronavirus sp. WA3607   \n",
              "\n",
              "                Isolate     Accession Available sequence         Abbrev.  \n",
              "0                   NaN  GECV01031551     Partial genome            MLeV  \n",
              "1               AMA_L_F      MT663548    Complete genome   BtCoV-AMA-L-F  \n",
              "2  bat/USA/CDPHE15/2006      KF430219    Complete genome   BtCoV CDPHE15  \n",
              "3               CHB0025      MN611525    Complete genome  HipPBCoV-CHB25  \n",
              "4                WA3607      MK472070    Complete genome     ACoV-WA3607  "
            ],
            "text/html": [
              "\n",
              "  <div id=\"df-0365a346-c309-4616-8450-2520cbe10028\" class=\"colab-df-container\">\n",
              "    <div>\n",
              "<style scoped>\n",
              "    .dataframe tbody tr th:only-of-type {\n",
              "        vertical-align: middle;\n",
              "    }\n",
              "\n",
              "    .dataframe tbody tr th {\n",
              "        vertical-align: top;\n",
              "    }\n",
              "\n",
              "    .dataframe thead th {\n",
              "        text-align: right;\n",
              "    }\n",
              "</style>\n",
              "<table border=\"1\" class=\"dataframe\">\n",
              "  <thead>\n",
              "    <tr style=\"text-align: right;\">\n",
              "      <th></th>\n",
              "      <th>Subfamily</th>\n",
              "      <th>Genus</th>\n",
              "      <th>Subgenus</th>\n",
              "      <th>Species</th>\n",
              "      <th>Virus name</th>\n",
              "      <th>Isolate</th>\n",
              "      <th>Accession</th>\n",
              "      <th>Available sequence</th>\n",
              "      <th>Abbrev.</th>\n",
              "    </tr>\n",
              "  </thead>\n",
              "  <tbody>\n",
              "    <tr>\n",
              "      <th>0</th>\n",
              "      <td>Letovirinae</td>\n",
              "      <td>Alphaletovirus</td>\n",
              "      <td>Milecovirus</td>\n",
              "      <td>Microhyla letovirus 1</td>\n",
              "      <td>Microhyla letovirus 1</td>\n",
              "      <td>NaN</td>\n",
              "      <td>GECV01031551</td>\n",
              "      <td>Partial genome</td>\n",
              "      <td>MLeV</td>\n",
              "    </tr>\n",
              "    <tr>\n",
              "      <th>1</th>\n",
              "      <td>Orthocoronavirinae</td>\n",
              "      <td>Alphacoronavirus</td>\n",
              "      <td>Amalacovirus</td>\n",
              "      <td>Alphacoronavirus AMALF</td>\n",
              "      <td>bat alphacoronavirus isolate AMA_L_F</td>\n",
              "      <td>AMA_L_F</td>\n",
              "      <td>MT663548</td>\n",
              "      <td>Complete genome</td>\n",
              "      <td>BtCoV-AMA-L-F</td>\n",
              "    </tr>\n",
              "    <tr>\n",
              "      <th>2</th>\n",
              "      <td>Orthocoronavirinae</td>\n",
              "      <td>Alphacoronavirus</td>\n",
              "      <td>Colacovirus</td>\n",
              "      <td>Bat coronavirus CDPHE15</td>\n",
              "      <td>bat coronavirus CDPHE15</td>\n",
              "      <td>bat/USA/CDPHE15/2006</td>\n",
              "      <td>KF430219</td>\n",
              "      <td>Complete genome</td>\n",
              "      <td>BtCoV CDPHE15</td>\n",
              "    </tr>\n",
              "    <tr>\n",
              "      <th>3</th>\n",
              "      <td>Orthocoronavirinae</td>\n",
              "      <td>Alphacoronavirus</td>\n",
              "      <td>Decacovirus</td>\n",
              "      <td>Alphacoronavirus CHB25</td>\n",
              "      <td>Hipposideros pomona bat coronavirus CHB25</td>\n",
              "      <td>CHB0025</td>\n",
              "      <td>MN611525</td>\n",
              "      <td>Complete genome</td>\n",
              "      <td>HipPBCoV-CHB25</td>\n",
              "    </tr>\n",
              "    <tr>\n",
              "      <th>4</th>\n",
              "      <td>Orthocoronavirinae</td>\n",
              "      <td>Alphacoronavirus</td>\n",
              "      <td>Decacovirus</td>\n",
              "      <td>Alphacoronavirus WA3607</td>\n",
              "      <td>alphacoronavirus sp. WA3607</td>\n",
              "      <td>WA3607</td>\n",
              "      <td>MK472070</td>\n",
              "      <td>Complete genome</td>\n",
              "      <td>ACoV-WA3607</td>\n",
              "    </tr>\n",
              "  </tbody>\n",
              "</table>\n",
              "</div>\n",
              "    <div class=\"colab-df-buttons\">\n",
              "\n",
              "  <div class=\"colab-df-container\">\n",
              "    <button class=\"colab-df-convert\" onclick=\"convertToInteractive('df-0365a346-c309-4616-8450-2520cbe10028')\"\n",
              "            title=\"Convert this dataframe to an interactive table.\"\n",
              "            style=\"display:none;\">\n",
              "\n",
              "  <svg xmlns=\"http://www.w3.org/2000/svg\" height=\"24px\" viewBox=\"0 -960 960 960\">\n",
              "    <path d=\"M120-120v-720h720v720H120Zm60-500h600v-160H180v160Zm220 220h160v-160H400v160Zm0 220h160v-160H400v160ZM180-400h160v-160H180v160Zm440 0h160v-160H620v160ZM180-180h160v-160H180v160Zm440 0h160v-160H620v160Z\"/>\n",
              "  </svg>\n",
              "    </button>\n",
              "\n",
              "  <style>\n",
              "    .colab-df-container {\n",
              "      display:flex;\n",
              "      gap: 12px;\n",
              "    }\n",
              "\n",
              "    .colab-df-convert {\n",
              "      background-color: #E8F0FE;\n",
              "      border: none;\n",
              "      border-radius: 50%;\n",
              "      cursor: pointer;\n",
              "      display: none;\n",
              "      fill: #1967D2;\n",
              "      height: 32px;\n",
              "      padding: 0 0 0 0;\n",
              "      width: 32px;\n",
              "    }\n",
              "\n",
              "    .colab-df-convert:hover {\n",
              "      background-color: #E2EBFA;\n",
              "      box-shadow: 0px 1px 2px rgba(60, 64, 67, 0.3), 0px 1px 3px 1px rgba(60, 64, 67, 0.15);\n",
              "      fill: #174EA6;\n",
              "    }\n",
              "\n",
              "    .colab-df-buttons div {\n",
              "      margin-bottom: 4px;\n",
              "    }\n",
              "\n",
              "    [theme=dark] .colab-df-convert {\n",
              "      background-color: #3B4455;\n",
              "      fill: #D2E3FC;\n",
              "    }\n",
              "\n",
              "    [theme=dark] .colab-df-convert:hover {\n",
              "      background-color: #434B5C;\n",
              "      box-shadow: 0px 1px 3px 1px rgba(0, 0, 0, 0.15);\n",
              "      filter: drop-shadow(0px 1px 2px rgba(0, 0, 0, 0.3));\n",
              "      fill: #FFFFFF;\n",
              "    }\n",
              "  </style>\n",
              "\n",
              "    <script>\n",
              "      const buttonEl =\n",
              "        document.querySelector('#df-0365a346-c309-4616-8450-2520cbe10028 button.colab-df-convert');\n",
              "      buttonEl.style.display =\n",
              "        google.colab.kernel.accessAllowed ? 'block' : 'none';\n",
              "\n",
              "      async function convertToInteractive(key) {\n",
              "        const element = document.querySelector('#df-0365a346-c309-4616-8450-2520cbe10028');\n",
              "        const dataTable =\n",
              "          await google.colab.kernel.invokeFunction('convertToInteractive',\n",
              "                                                    [key], {});\n",
              "        if (!dataTable) return;\n",
              "\n",
              "        const docLinkHtml = 'Like what you see? Visit the ' +\n",
              "          '<a target=\"_blank\" href=https://colab.research.google.com/notebooks/data_table.ipynb>data table notebook</a>'\n",
              "          + ' to learn more about interactive tables.';\n",
              "        element.innerHTML = '';\n",
              "        dataTable['output_type'] = 'display_data';\n",
              "        await google.colab.output.renderOutput(dataTable, element);\n",
              "        const docLink = document.createElement('div');\n",
              "        docLink.innerHTML = docLinkHtml;\n",
              "        element.appendChild(docLink);\n",
              "      }\n",
              "    </script>\n",
              "  </div>\n",
              "\n",
              "\n",
              "<div id=\"df-033e9717-22eb-453d-b3ff-d78dd4080f79\">\n",
              "  <button class=\"colab-df-quickchart\" onclick=\"quickchart('df-033e9717-22eb-453d-b3ff-d78dd4080f79')\"\n",
              "            title=\"Suggest charts.\"\n",
              "            style=\"display:none;\">\n",
              "\n",
              "<svg xmlns=\"http://www.w3.org/2000/svg\" height=\"24px\"viewBox=\"0 0 24 24\"\n",
              "     width=\"24px\">\n",
              "    <g>\n",
              "        <path d=\"M19 3H5c-1.1 0-2 .9-2 2v14c0 1.1.9 2 2 2h14c1.1 0 2-.9 2-2V5c0-1.1-.9-2-2-2zM9 17H7v-7h2v7zm4 0h-2V7h2v10zm4 0h-2v-4h2v4z\"/>\n",
              "    </g>\n",
              "</svg>\n",
              "  </button>\n",
              "\n",
              "<style>\n",
              "  .colab-df-quickchart {\n",
              "    background-color: #E8F0FE;\n",
              "    border: none;\n",
              "    border-radius: 50%;\n",
              "    cursor: pointer;\n",
              "    display: none;\n",
              "    fill: #1967D2;\n",
              "    height: 32px;\n",
              "    padding: 0 0 0 0;\n",
              "    width: 32px;\n",
              "  }\n",
              "\n",
              "  .colab-df-quickchart:hover {\n",
              "    background-color: #E2EBFA;\n",
              "    box-shadow: 0px 1px 2px rgba(60, 64, 67, 0.3), 0px 1px 3px 1px rgba(60, 64, 67, 0.15);\n",
              "    fill: #174EA6;\n",
              "  }\n",
              "\n",
              "  [theme=dark] .colab-df-quickchart {\n",
              "    background-color: #3B4455;\n",
              "    fill: #D2E3FC;\n",
              "  }\n",
              "\n",
              "  [theme=dark] .colab-df-quickchart:hover {\n",
              "    background-color: #434B5C;\n",
              "    box-shadow: 0px 1px 3px 1px rgba(0, 0, 0, 0.15);\n",
              "    filter: drop-shadow(0px 1px 2px rgba(0, 0, 0, 0.3));\n",
              "    fill: #FFFFFF;\n",
              "  }\n",
              "</style>\n",
              "\n",
              "  <script>\n",
              "    async function quickchart(key) {\n",
              "      const charts = await google.colab.kernel.invokeFunction(\n",
              "          'suggestCharts', [key], {});\n",
              "    }\n",
              "    (() => {\n",
              "      let quickchartButtonEl =\n",
              "        document.querySelector('#df-033e9717-22eb-453d-b3ff-d78dd4080f79 button');\n",
              "      quickchartButtonEl.style.display =\n",
              "        google.colab.kernel.accessAllowed ? 'block' : 'none';\n",
              "    })();\n",
              "  </script>\n",
              "</div>\n",
              "    </div>\n",
              "  </div>\n"
            ]
          },
          "metadata": {},
          "execution_count": 12
        }
      ]
    },
    {
      "cell_type": "code",
      "source": [
        "%cd /content\n",
        "!mkdir refseqs"
      ],
      "metadata": {
        "id": "neny00UR3S21"
      },
      "execution_count": null,
      "outputs": []
    },
    {
      "cell_type": "code",
      "source": [
        "def fetch_gb_files(accession_list, email, output_dir=\".\"):\n",
        "    \"\"\"\n",
        "    Fetch GB files for a list of accession numbers.\n",
        "\n",
        "    Parameters:\n",
        "    - accession_list: List of accession numbers.\n",
        "    - email: Your email address. NCBI requires this to track usage.\n",
        "    - output_dir: Directory to save the GB files. Default is the current directory.\n",
        "\n",
        "    Returns:\n",
        "    None. GB files are saved to the specified directory.\n",
        "    \"\"\"\n",
        "    Entrez.email = email\n",
        "\n",
        "    for accession in accession_list:\n",
        "        handle = Entrez.efetch(db=\"nucleotide\", id=accession, rettype=\"gb\", retmode=\"text\")\n",
        "        filename = f\"{output_dir}/{accession}.gb\"\n",
        "        with open(filename, \"w\") as f:\n",
        "            f.write(handle.read())\n",
        "        handle.close()\n",
        "        print(f\"{accession}.gb saved to {output_dir}\")"
      ],
      "metadata": {
        "id": "NMv1JlHf3r7c"
      },
      "execution_count": 19,
      "outputs": []
    },
    {
      "cell_type": "code",
      "source": [
        "# Dowloading refseq gb files from genbank\n",
        "accession_list = taxa_db['Accession']\n",
        "fetch_gb_files(accession_list, email=Entrez.email, output_dir=\"/content/refseqs\")"
      ],
      "metadata": {
        "id": "dUDgqX3o3QL0"
      },
      "execution_count": null,
      "outputs": []
    },
    {
      "cell_type": "code",
      "source": [
        "def list_proteins(gb_file):\n",
        "    \"\"\"\n",
        "    List all protein names from a GB file.\n",
        "\n",
        "    Parameters:\n",
        "    - gb_file: Path to the GenBank file.\n",
        "\n",
        "    Returns:\n",
        "    List of protein names.\n",
        "    \"\"\"\n",
        "    protein_names = []\n",
        "\n",
        "    # Parse the GenBank file\n",
        "    for record in SeqIO.parse(gb_file, \"genbank\"):\n",
        "        for feature in record.features:\n",
        "            if feature.type == \"CDS\" and \"product\" in feature.qualifiers:\n",
        "                protein_names.append(feature.qualifiers[\"product\"][0])\n",
        "\n",
        "    return protein_names"
      ],
      "metadata": {
        "id": "3YlQeEah3Rdb"
      },
      "execution_count": 21,
      "outputs": []
    },
    {
      "cell_type": "code",
      "source": [
        "directory = '/content/refseqs'\n",
        "file_paths = [os.path.join(directory, file) for file in os.listdir(directory) if os.path.isfile(os.path.join(directory, file))]\n",
        "\n",
        "protein_names_list = []\n",
        "\n",
        "for gb_file in file_paths:\n",
        "  protein_names_list.extend(list_proteins(gb_file))\n",
        "\n",
        "unique_protein_names = sorted(set(protein_names_list))\n",
        "print(unique_protein_names)"
      ],
      "metadata": {
        "id": "rHXYjIs83Rag"
      },
      "execution_count": null,
      "outputs": []
    },
    {
      "cell_type": "code",
      "source": [
        "def extract_protein_sequence(gb_file, protein_name):\n",
        "    \"\"\"\n",
        "    Extract amino acid sequence from a GB file given the name of a protein.\n",
        "\n",
        "    Parameters:\n",
        "    - gb_file: Path to the GenBank file.\n",
        "    - protein_name: Name of the protein to extract the sequence for.\n",
        "\n",
        "    Returns:\n",
        "    Amino acid sequence as a string if found, else None.\n",
        "    \"\"\"\n",
        "    # Parse the GenBank file\n",
        "    for record in SeqIO.parse(gb_file, \"genbank\"):\n",
        "        for feature in record.features:\n",
        "            if feature.type == \"CDS\":\n",
        "                # Check if the protein product name matches the given name\n",
        "                if \"product\" in feature.qualifiers and feature.qualifiers[\"product\"][0] == protein_name:\n",
        "                    # Extract the protein sequence\n",
        "                    return feature.qualifiers[\"translation\"][0]\n",
        "    return None"
      ],
      "metadata": {
        "id": "1RvWAyaI3RXN"
      },
      "execution_count": 23,
      "outputs": []
    },
    {
      "cell_type": "code",
      "source": [
        "# All nucleocapsid protein aliases used in gb annotations\n",
        "protein_names = ['nucleocapsid',\n",
        "'nucleocapsid phosphoprotein',\n",
        "'nucleocapsid protein',\n",
        "'nucleoprotein',\n",
        "'N',\n",
        "'N protein',\n",
        "'capsid']"
      ],
      "metadata": {
        "id": "5QHsMlqO3RUE"
      },
      "execution_count": 67,
      "outputs": []
    },
    {
      "cell_type": "code",
      "source": [
        "directory = '/content/refseqs'\n",
        "file_paths = [os.path.join(directory, file) for file in os.listdir(directory) if os.path.isfile(os.path.join(directory, file))]\n",
        "seq_names = []\n",
        "sequences = []\n",
        "for gb_file in file_paths:\n",
        "  for pr in protein_names:\n",
        "    seq = extract_protein_sequence(gb_file, pr)\n",
        "    if seq:\n",
        "      seq_names.append(gb_file.split('/')[3][:-3])\n",
        "      sequences.append(seq)"
      ],
      "metadata": {
        "id": "EN6AdHvd3RQ5"
      },
      "execution_count": 68,
      "outputs": []
    },
    {
      "cell_type": "code",
      "source": [
        "# Two species are missing, no protein annotations\n",
        "missing = [i.split('/')[3][:-3] for i in file_paths if i.split('/')[3][:-3] not in seq_names]\n",
        "print(missing)"
      ],
      "metadata": {
        "colab": {
          "base_uri": "https://localhost:8080/"
        },
        "id": "2uGng-UZ3RIw",
        "outputId": "1c73e456-0c1b-4322-cbf4-e2b5b321d759"
      },
      "execution_count": 69,
      "outputs": [
        {
          "output_type": "stream",
          "name": "stdout",
          "text": [
            "['GECV01031551', 'AY613950']\n"
          ]
        }
      ]
    },
    {
      "cell_type": "code",
      "source": [
        "def write_to_fasta(seq_names, sequences, filename):\n",
        "    \"\"\"\n",
        "    Write sequences to a FASTA file.\n",
        "\n",
        "    Parameters:\n",
        "    - seq_names: List of sequence names.\n",
        "    - sequences: List of corresponding sequences.\n",
        "    - filename: Name of the output FASTA file.\n",
        "\n",
        "    Returns:\n",
        "    None. Writes the sequences to the specified FASTA file.\n",
        "    \"\"\"\n",
        "    with open(filename, 'w') as f:\n",
        "        for name, seq in zip(seq_names, sequences):\n",
        "            f.write(f\">{name}\\n{seq}\\n\")"
      ],
      "metadata": {
        "id": "CnhMIKYb3RFe"
      },
      "execution_count": 70,
      "outputs": []
    },
    {
      "cell_type": "code",
      "source": [
        "%cd /content"
      ],
      "metadata": {
        "id": "4pGpr9sNBlVc"
      },
      "execution_count": null,
      "outputs": []
    },
    {
      "cell_type": "code",
      "source": [
        "# Combine nucleocapsid protein sequences inta a single fasta file\n",
        "write_to_fasta(seq_names, sequences, 'ref_sequences_nucleocapsid.fas')"
      ],
      "metadata": {
        "id": "6T2vuiTt6Rdw"
      },
      "execution_count": 74,
      "outputs": []
    },
    {
      "cell_type": "code",
      "source": [
        "# Multiple sequence alignment\n",
        "!mafft --auto /content/ref_sequences_nucleocapsid.fas > /content/ref_sequences_nucleocapsid_aln.fas"
      ],
      "metadata": {
        "id": "j8y5T0cb6T2Q"
      },
      "execution_count": null,
      "outputs": []
    },
    {
      "cell_type": "code",
      "source": [
        "# Alignment trimming\n",
        "!trimal/source/trimal -in /content/ref_sequences_nucleocapsid_aln.fas -out /content/ref_sequences_nucleocapsid_aln_trimm.fas -automated1"
      ],
      "metadata": {
        "id": "SG4wM5rE6Tzb"
      },
      "execution_count": 76,
      "outputs": []
    },
    {
      "cell_type": "code",
      "source": [
        "# Substitution model estimation and tree building\n",
        "%cd /content/IQ-TREE/build\n",
        "!./iqtree -nt AUTO -s /content/ref_sequences_nucleocapsid_aln_trimm.fas -m TEST"
      ],
      "metadata": {
        "id": "pYEJnkqR6Twg"
      },
      "execution_count": null,
      "outputs": []
    },
    {
      "cell_type": "markdown",
      "source": [
        "# Анализ участков Z-РНК"
      ],
      "metadata": {
        "id": "l65vm4ZcO7_4"
      }
    },
    {
      "cell_type": "code",
      "source": [
        "# Generic function to run other sequence processing functions\n",
        "\n",
        "def process_fasta_with_function(fasta_path: str, function: Callable, params: Dict) -> Dict[str, List[Tuple[int, int]]]:\n",
        "    \"\"\"\n",
        "    Run a function on a multi-fasta file.\n",
        "\n",
        "    Parameters:\n",
        "    fasta_path (str): The path to the fasta file.\n",
        "    function (Callable): The function to run on each sequence.\n",
        "    params (Dict): A dictionary containing the parameters for the function.\n",
        "\n",
        "    Returns:\n",
        "    Dict[str, List[Tuple[int, int]]]: A dictionary where the keys are the sequence identifiers and the values are the results of the function for each sequence.\n",
        "    \"\"\"\n",
        "    results = {}\n",
        "\n",
        "    # Load all the sequences into a list to compute the total number of sequences\n",
        "    sequences = list(SeqIO.parse(fasta_path, \"fasta\"))\n",
        "\n",
        "    # Wrap the sequences list with tqdm for progress bar\n",
        "    with tqdm(sequences, desc=\"Processing\", unit=\"sequence\") as pbar:\n",
        "        for record in pbar:\n",
        "            sequence_id = record.id\n",
        "            sequence = str(record.seq)\n",
        "            results[sequence_id] = function(sequence, **params)\n",
        "\n",
        "    return results"
      ],
      "metadata": {
        "id": "Oc9EZmsLO7o6"
      },
      "execution_count": 178,
      "outputs": []
    },
    {
      "cell_type": "code",
      "source": [
        "def run_zdnabert(seq_string: str, model:\n",
        "                 torch.nn.Module, tokenizer: torch.nn.Module,\n",
        "                 model_confidence_threshold: float = 0.2,\n",
        "                 minimum_sequence_length: int = 10) -> List[Tuple[int, int]]:\n",
        "    \"\"\"\n",
        "    Process a DNA or RNA sequence string using a given model and identify segments of significance.\n",
        "\n",
        "    Parameters:\n",
        "    - seq_string (str): The DNA or RNA sequence to be processed.\n",
        "    - model (torch.nn.Module): Pretrained model for sequence prediction.\n",
        "    - tokenizer (torch.nn.Module): Tokenizer to convert the sequence into model-compatible tokens.\n",
        "    - model_confidence_threshold (float, optional): Threshold for considering a segment significant. Defaults to 0.2.\n",
        "    - minimum_sequence_length (int, optional): Minimum length of a segment to consider. Defaults to 10.\n",
        "\n",
        "    Returns:\n",
        "    - List[Tuple[int, int]]: A list of tuples representing the start and end positions of the predicted Z-DNA forming regions.\n",
        "    \"\"\"\n",
        "\n",
        "    model.cuda()\n",
        "    # Convert the sequence to k-mers\n",
        "    k = 6\n",
        "    kmer_seq = [seq_string.upper()[x:x+k] for x in range(len(seq_string)+1-k)]\n",
        "\n",
        "    # Split the kmer sequence into pieces of a specified length with some overlap (padding)\n",
        "    length, pad = 512, 16\n",
        "    seq_pieces = [kmer_seq[st:min(st+512, len(kmer_seq))] for st in range(0, len(kmer_seq), length-pad)]\n",
        "\n",
        "    # Use the model to predict on each sequence piece\n",
        "    preds = []\n",
        "    with torch.no_grad():\n",
        "        for seq_piece in seq_pieces:\n",
        "            input_ids = torch.LongTensor(tokenizer.encode(' '.join(seq_piece), add_special_tokens=False))\n",
        "            outputs = torch.softmax(model(input_ids.cuda().unsqueeze(0))[-1], axis=-1)[0, :, 1]\n",
        "            preds.append(outputs.cpu().numpy())\n",
        "\n",
        "    # Stitch together the predictions for each piece of the sequence\n",
        "    res = np.array([])\n",
        "    for seq in preds:\n",
        "        res = np.concatenate([res[:-pad], seq])\n",
        "    stitched_seq = res\n",
        "\n",
        "    # Identify segments with prediction confidence above the threshold\n",
        "    out = []\n",
        "    labeled, max_label = scipy.ndimage.label(stitched_seq > model_confidence_threshold)\n",
        "    for label in range(1, max_label+1):\n",
        "        candidate = np.where(labeled == label)[0]\n",
        "        candidate_length = candidate.shape[0]\n",
        "        # Consider segments only if they are longer than the specified minimum sequence length\n",
        "        if candidate_length > minimum_sequence_length:\n",
        "            out.append((candidate[0], candidate[-1]))\n",
        "\n",
        "    return out\n"
      ],
      "metadata": {
        "id": "22Nh5_ggDrzS"
      },
      "execution_count": 172,
      "outputs": []
    },
    {
      "cell_type": "code",
      "source": [
        "def run_zhunt(seq_string: str, zhunt_path: str, score: int = 500,\n",
        "              window_size: int = 6, min_size: int = 3,\n",
        "              max_size: int = 6) -> List[Tuple[int, int]]:\n",
        "    \"\"\"\n",
        "    Run the ZHunt program to predict Z-DNA forming regions in a DNA sequence.\n",
        "\n",
        "    Parameters:\n",
        "    - seq_string (str): The DNA or RNA sequence to be processed.\n",
        "    - zhunt_path (str): The path to the ZHunt executable.\n",
        "    - window_size (int): The window size for the ZHunt program. Default is 6.\n",
        "    - min_size (int): The minimum size for the ZHunt program. Default is 3.\n",
        "    - max_size (int): The maximum size for the ZHunt program. Default is 6.\n",
        "\n",
        "    Returns:\n",
        "    List[Tuple[int, int]]: A list of tuples representing the start and end positions of the predicted Z-DNA forming regions.\n",
        "    \"\"\"\n",
        "    # Ensure the sequence only contains valid DNA bases\n",
        "    # assert set(sequence).issubset({\"A\", \"C\", \"G\", \"T\", \"N\"}), \"Invalid DNA sequence\"\n",
        "\n",
        "    # Create a temporary file\n",
        "    file_descriptor, temp_file_path = tempfile.mkstemp()\n",
        "    os.close(file_descriptor)\n",
        "\n",
        "    try:\n",
        "        # Write the sequence to the temporary file\n",
        "        with open(temp_file_path, 'w') as temp_file:\n",
        "            temp_file.write(seq_string)\n",
        "\n",
        "        # Run the ZHunt program\n",
        "        subprocess.run(\n",
        "            [zhunt_path, str(window_size), str(min_size), str(max_size), temp_file_path],\n",
        "            check=True, stdout=subprocess.PIPE, stderr=subprocess.DEVNULL,\n",
        "            input=seq_string, encoding='ascii'\n",
        "        )\n",
        "\n",
        "        # Read the ZHunt output into a DataFrame\n",
        "        with open(temp_file_path + \".Z-SCORE\", 'r') as zhunt_output:\n",
        "            output_data = pd.read_csv(zhunt_output,\n",
        "                             names=['Start', 'End', 'nu-1', 'nu-2', 'nu-3',\n",
        "                                    'ZH-Score', 'Sequence', 'Conformation'],\n",
        "                             skiprows=1, sep='\\s+')\n",
        "\n",
        "        # Filter the DataFrame to only include rows with a ZH-Score greater than 500\n",
        "        filtered_data = output_data[output_data['ZH-Score'] > score]\n",
        "\n",
        "        # Return a list of tuples representing the start and end positions of the predicted Z-DNA forming regions\n",
        "        return list(zip(filtered_data['Start'], filtered_data['End']))\n",
        "\n",
        "    except Exception as error:\n",
        "        print(f\"An error occurred while running ZHunt: {error}\")\n",
        "\n",
        "    finally:\n",
        "        # Clean up the temporary files\n",
        "        os.remove(temp_file_path)\n",
        "        os.remove(temp_file_path + \".Z-SCORE\")"
      ],
      "metadata": {
        "id": "hPa2iQMyXZsu"
      },
      "execution_count": 173,
      "outputs": []
    },
    {
      "cell_type": "code",
      "source": [
        "ZDNABERT_PARAMS = {\n",
        "    'model_confidence_threshold': 0.2,\n",
        "    'minimum_sequence_length': 10,\n",
        "    'tokenizer': BertTokenizer.from_pretrained('6-new-12w-0/'),\n",
        "    'model': BertForTokenClassification.from_pretrained('6-new-12w-0/')\n",
        "}"
      ],
      "metadata": {
        "id": "AHrgoCvNDr5N"
      },
      "execution_count": 135,
      "outputs": []
    },
    {
      "cell_type": "code",
      "source": [
        "ZHUNT_PARAMS = {\n",
        "    'zhunt_path': '/content/zhunt3',\n",
        "    'score': 500,\n",
        "    'window_size': 6,\n",
        "    'min_size': 3,\n",
        "    'max_size': 6\n",
        "}"
      ],
      "metadata": {
        "id": "QGUdeFlADr13"
      },
      "execution_count": 160,
      "outputs": []
    },
    {
      "cell_type": "code",
      "source": [
        "directory = '/content/refseqs'\n",
        "file_paths = [os.path.join(directory, file) for file in os.listdir(directory) if os.path.isfile(os.path.join(directory, file))]\n",
        "with open('refseqs_all.fas', 'w') as fasta_out:\n",
        "    for gb_file in file_paths:\n",
        "        for record in SeqIO.parse(gb_file, \"genbank\"):\n",
        "            SeqIO.write(record, fasta_out, \"fasta\")"
      ],
      "metadata": {
        "id": "Pz7QlhGET_Cq"
      },
      "execution_count": 139,
      "outputs": []
    },
    {
      "cell_type": "code",
      "source": [
        "zdnabert_refseq_intervals = process_fasta_with_function('/content/refseqs_all.fas',\n",
        "                                                        run_zdnabert, ZDNABERT_PARAMS)"
      ],
      "metadata": {
        "colab": {
          "base_uri": "https://localhost:8080/",
          "height": 49,
          "referenced_widgets": [
            "11461d8a03c44b86979770300e8d10a9",
            "43120ad6c9af40cc8f29630e4fbe2163",
            "23f6dd4b00a74e379651041ce738fd65",
            "db9856b738a74c459113a16e760b206e",
            "2793a216dbe341d6b4afc0954e584bd3",
            "f96334305c09447b8663b5bd6eca8e34",
            "f9cbd748ce18439aba51aa6be4baf79b",
            "39b8edd0024d416caeeea5bc6dcb401e",
            "537c706ab9404903a6e37e384c07e91f",
            "e52e7d1d21994fc5b9d6c8723e66b1bc",
            "d001e9d404d949c9883dac1e61643275"
          ]
        },
        "id": "bJzevYXrDrwp",
        "outputId": "1c53ff14-e9fd-4c43-be0d-975277a0efa2"
      },
      "execution_count": 174,
      "outputs": [
        {
          "output_type": "display_data",
          "data": {
            "text/plain": [
              "Processing:   0%|          | 0/59 [00:00<?, ?sequence/s]"
            ],
            "application/vnd.jupyter.widget-view+json": {
              "version_major": 2,
              "version_minor": 0,
              "model_id": "11461d8a03c44b86979770300e8d10a9"
            }
          },
          "metadata": {}
        }
      ]
    },
    {
      "cell_type": "code",
      "source": [
        "zhunt_refseq_intervals = process_fasta_with_function('/content/refseqs_all.fas',\n",
        "                                                        run_zhunt, ZHUNT_PARAMS)"
      ],
      "metadata": {
        "colab": {
          "base_uri": "https://localhost:8080/",
          "height": 49,
          "referenced_widgets": [
            "3a5f136f86cf4620831ccd0b74821f71",
            "093872a144c645939078447fb264589a",
            "9dde5a13ca0b4a5d9d6db10b146207dd",
            "dc975caa7e04492da92e3c5e42eeff07",
            "28176821142d41fdb09a202356b5495b",
            "f176079db88c41298efddc28505d0dc9",
            "343667505b0749a2beb665e770704681",
            "729e00a27c5b40e3a05de0b3c28b988e",
            "f0d4f52cccc0483d97466b4eb11468a7",
            "c4f7e34b960d4afa8b8171a5171d7229",
            "f4571a5cb4994c61b5e444a9998be14c"
          ]
        },
        "id": "7C8c6U0MZDkA",
        "outputId": "cd889280-018e-4f89-dd03-64c0b3904bd3"
      },
      "execution_count": 175,
      "outputs": [
        {
          "output_type": "display_data",
          "data": {
            "text/plain": [
              "Processing:   0%|          | 0/59 [00:00<?, ?sequence/s]"
            ],
            "application/vnd.jupyter.widget-view+json": {
              "version_major": 2,
              "version_minor": 0,
              "model_id": "3a5f136f86cf4620831ccd0b74821f71"
            }
          },
          "metadata": {}
        }
      ]
    },
    {
      "cell_type": "code",
      "source": [
        "# Define a custom JSON encoder that converts any numpy types to standard Python types\n",
        "class NumpyEncoder(json.JSONEncoder):\n",
        "    def default(self, obj):\n",
        "        if isinstance(obj, np.integer):\n",
        "            return int(obj)\n",
        "        elif isinstance(obj, np.floating):\n",
        "            return float(obj)\n",
        "        elif isinstance(obj, np.ndarray):\n",
        "            return obj.tolist()\n",
        "        else:\n",
        "            return super(NumpyEncoder, self).default(obj)"
      ],
      "metadata": {
        "id": "eHuRxi4GYroW"
      },
      "execution_count": 177,
      "outputs": []
    },
    {
      "cell_type": "code",
      "source": [
        "# Saving results into a JSON file\n",
        "with open('refs_zdnabert.json', 'w') as fp:\n",
        "    json.dump(zdnabert_refseq_intervals, fp, cls=NumpyEncoder)\n",
        "\n",
        "with open('refs_zhunt.json', 'w') as fp:\n",
        "    json.dump(zhunt_refseq_intervals, fp, cls=NumpyEncoder)"
      ],
      "metadata": {
        "id": "OR2pb4-IDrtG"
      },
      "execution_count": 176,
      "outputs": []
    },
    {
      "cell_type": "code",
      "source": [
        "# Download all files\n",
        "!zip -r /content/conten.zip /content/\n",
        "from google.colab import files\n",
        "files.download(\"/content/conten.zip\")"
      ],
      "metadata": {
        "id": "zWEF769DW5K5"
      },
      "execution_count": null,
      "outputs": []
    },
    {
      "cell_type": "markdown",
      "source": [
        "# Визуализация филогенетического дерева\n",
        "### с указанием суммарной длины участков Z-РНК для ветвей"
      ],
      "metadata": {
        "id": "u09GKBtwhzC7"
      }
    },
    {
      "cell_type": "code",
      "source": [
        "def newick_to_linkage(newick: str, label_order: list[str] = None) -> (np.ndarray, list[str]):\n",
        "    \"\"\"\n",
        "    Convert a Newick formatted tree into a linkage matrix and retrieve corresponding labels.\n",
        "\n",
        "    Parameters:\n",
        "    - newick (str): A Newick formatted string representation of the tree.\n",
        "    - label_order (list[str], optional): Desired order of labels in the output.\n",
        "                                         If not provided, the order from the Newick string is used.\n",
        "\n",
        "    Returns:\n",
        "    - np.ndarray: Linkage matrix representation of the tree.\n",
        "    - list[str]: List of labels corresponding to the tree nodes.\n",
        "\n",
        "    Raises:\n",
        "    - AssertionError: If there are labels in `label_order` which are not present in the Newick string.\n",
        "    \"\"\"\n",
        "\n",
        "    # Convert Newick string to ClusterTree\n",
        "    tree = ClusterTree(newick)\n",
        "\n",
        "    # Get the cophenetic matrix and labels from the tree\n",
        "    cophenetic_matrix, newick_labels = tree.cophenetic_matrix()\n",
        "    cophenetic_matrix = pd.DataFrame(cophenetic_matrix, columns=newick_labels, index=newick_labels)\n",
        "\n",
        "    # If a label order is provided, reorder the cophenetic matrix rows and columns accordingly\n",
        "    if label_order is not None:\n",
        "        # Identify missing and superfluous labels\n",
        "        missing_labels = set(label_order).difference(set(newick_labels))\n",
        "        superfluous_labels = set(newick_labels).difference(set(label_order))\n",
        "\n",
        "        # Check for labels that are in `label_order` but not in Newick string\n",
        "        assert len(missing_labels) == 0, f'Some labels are not in the newick string: {missing_labels}'\n",
        "\n",
        "        # Warn if there are labels in the Newick string that are not used in `label_order`\n",
        "        if len(superfluous_labels) > 0:\n",
        "            logging.warning(f'Newick string contains unused labels: {superfluous_labels}')\n",
        "\n",
        "        # Reorder the cophenetic matrix\n",
        "        cophenetic_matrix = cophenetic_matrix.reindex(index=label_order, columns=label_order)\n",
        "\n",
        "    # Convert the cophenetic matrix to a pairwise distance matrix\n",
        "    pairwise_distances = squareform(cophenetic_matrix)\n",
        "\n",
        "    # Return linkage matrix and labels\n",
        "    return linkage(pairwise_distances), list(cophenetic_matrix.columns)"
      ],
      "metadata": {
        "id": "gjDkM3YFW5Ie"
      },
      "execution_count": 182,
      "outputs": []
    },
    {
      "cell_type": "code",
      "source": [
        "def plot_tree_with_annotations(newick: str, numeric_values: dict, label_color_mapping: dict, color_threshold: float = 0.9) -> None:\n",
        "    \"\"\"\n",
        "    Plot a tree with annotations using a Newick formatted string along with numeric values represented as a bar plot beside the dendrogram.\n",
        "\n",
        "    Parameters:\n",
        "    - newick (str): A Newick formatted string representation of the tree.\n",
        "    - numeric_values (dict): A dictionary containing the numeric values corresponding to the labels. e.g. {\"label1\": 5.6}\n",
        "    - label_color_mapping (dict): A dictionary mapping the labels to colors. e.g. {\"label1\": \"red\"}\n",
        "    - color_threshold (float, optional): The threshold for coloring branches. Defaults to 0.9.\n",
        "\n",
        "    Returns:\n",
        "    - None\n",
        "    \"\"\"\n",
        "\n",
        "    # Convert newick string to linkage matrix and get labels\n",
        "    linkage_matrix, labels = newick_to_linkage(newick)\n",
        "\n",
        "    # Create a dual subplot - one for tree and other for numeric value bars\n",
        "    fig, (ax1, ax2) = plt.subplots(1, 2, figsize=(16, 7), gridspec_kw={'width_ratios': [4, 1]})\n",
        "\n",
        "    # Plot tree on the left subplot\n",
        "    dendro_data = dendrogram(linkage_matrix, labels=labels, orientation='left', ax=ax1, color_threshold=color_threshold)\n",
        "\n",
        "    # Get the number of leaves (labels) in tree\n",
        "    num_leaves = len(dendro_data['ivl'])\n",
        "\n",
        "    # Get the maximum numeric value for x-limit of the right subplot\n",
        "    max_width = max(numeric_values.values())\n",
        "\n",
        "    # Plot numeric values as colored boxes beside the tree\n",
        "    for label, y in zip(dendro_data['ivl'], range(num_leaves)):\n",
        "        box_width = numeric_values.get(label, 0)\n",
        "        color = label_color_mapping.get(label, \"grey\")\n",
        "        ax2.add_patch(plt.Rectangle((0, y*(ax1.get_ylim()[1]/num_leaves) + 0.25*ax1.get_ylim()[1]/num_leaves), box_width, 5, facecolor=color))\n",
        "\n",
        "    # Set limits for the right subplot and hide its y-axis\n",
        "    ax2.set_xlim(0, max_width)\n",
        "    ax2.set_ylim(ax1.get_ylim())\n",
        "    ax2.yaxis.set_visible(False)\n",
        "\n",
        "    # Display the plot\n",
        "    plt.tight_layout()\n",
        "    plt.show()"
      ],
      "metadata": {
        "id": "GJM-nYEtW5Dx"
      },
      "execution_count": 183,
      "outputs": []
    },
    {
      "cell_type": "code",
      "source": [
        "tree_newick_string = open('/content/ref_sequences_nucleocapsid_aln_trimm.fas.treefile', 'r').read().strip()"
      ],
      "metadata": {
        "id": "Q9irP9xjW4_W"
      },
      "execution_count": 184,
      "outputs": []
    },
    {
      "cell_type": "code",
      "source": [],
      "metadata": {
        "id": "jY7BXk7IW45m"
      },
      "execution_count": null,
      "outputs": []
    },
    {
      "cell_type": "code",
      "source": [],
      "metadata": {
        "id": "12pre4QzW42m"
      },
      "execution_count": null,
      "outputs": []
    },
    {
      "cell_type": "code",
      "source": [
        "!mkdir species_gb_files"
      ],
      "metadata": {
        "id": "bhoW6MoqYcbS"
      },
      "execution_count": 13,
      "outputs": []
    },
    {
      "cell_type": "code",
      "source": [
        "# Set email (required for accessing NCBI databases via Entrez)\n",
        "Entrez.email = \"rustam@heydarov.ru\"\n",
        "\n",
        "def get_taxid(species_name: str) -> Optional[str]:\n",
        "    \"\"\"\n",
        "    Retrieve the taxonomic identifier (taxid) for a given species name.\n",
        "\n",
        "    Args:\n",
        "        species_name (str): The name of the species for which the taxid is required.\n",
        "\n",
        "    Returns:\n",
        "        str: The taxid for the species, if found. None otherwise.\n",
        "    \"\"\"\n",
        "    handle = Entrez.esearch(db=\"taxonomy\", term=species_name)\n",
        "    record = Entrez.read(handle)\n",
        "    handle.close()\n",
        "    try:\n",
        "        return record[\"IdList\"][0]\n",
        "    except IndexError:\n",
        "        return None\n",
        "\n",
        "\n",
        "def fetch_genbank_files(taxid: str, filename: str, n: int) -> None:\n",
        "    \"\"\"\n",
        "    Download a fixed number of random genomic GenBank files for a given taxid and save to a file.\n",
        "\n",
        "    Args:\n",
        "        taxid (str): The taxid for which GenBank files are required.\n",
        "        filename (str): The name of the file to save the GenBank data.\n",
        "        n (int): The fixed number of GenBank files to fetch.\n",
        "\n",
        "    Returns:\n",
        "        None\n",
        "    \"\"\"\n",
        "    handle = Entrez.esearch(db=\"nuccore\",\n",
        "                            term=f'txid{taxid}[organism:exp] AND biomol_genomic[prop] AND (\"25000\"[SLEN] : \"35000\"[SLEN])',\n",
        "                            retmax=10000000)\n",
        "    record = Entrez.read(handle)\n",
        "    id_list = record[\"IdList\"]\n",
        "\n",
        "    if not id_list:\n",
        "        print(f\"No GenBank records found for taxid {taxid}\")\n",
        "        return\n",
        "\n",
        "    # Randomly select n IDs from id_list\n",
        "    selected_ids = random.sample(id_list, min(n, len(id_list)))\n",
        "\n",
        "    # Using tqdm to show progress bar\n",
        "    with open(filename, \"w\") as out, tqdm(total=len(selected_ids), desc=\"Fetching GenBank records\") as pbar:\n",
        "        for gb_id in selected_ids:\n",
        "            handle = Entrez.efetch(db=\"nuccore\", id=gb_id, rettype=\"gb\", retmode=\"text\")\n",
        "            out.write(handle.read())\n",
        "            pbar.update(1)  # update progress bar for each GenBank record\n",
        "            time.sleep(0.35)  # Optional: to avoid hitting API rate limits\n",
        "\n",
        "\n",
        "\n",
        "def count_genbank_entries(taxid: str) -> int:\n",
        "    \"\"\"\n",
        "    Count the number of GenBank entries for a given taxid.\n",
        "\n",
        "    Args:\n",
        "        taxid (str): The taxid for which the GenBank entry count is required.\n",
        "\n",
        "    Returns:\n",
        "        int: The count of GenBank entries associated with the taxid.\n",
        "    \"\"\"\n",
        "    handle = Entrez.esearch(db=\"nuccore\",\n",
        "                            term=f'txid{taxid}[organism:exp] AND biomol_genomic[prop] AND (\"25000\"[SLEN] : \"35000\"[SLEN])',\n",
        "                            retmax=100000000)\n",
        "    record = Entrez.read(handle)\n",
        "    return len(record[\"IdList\"])"
      ],
      "metadata": {
        "id": "zHheAoTvWSql"
      },
      "execution_count": 14,
      "outputs": []
    },
    {
      "cell_type": "code",
      "source": [
        "# Iterate over unique species and count strains\n",
        "unique_species = taxa_db[\"Species\"].unique()\n",
        "\n",
        "data = []\n",
        "for species in unique_species:\n",
        "    taxid = get_taxid(species)\n",
        "    if taxid:\n",
        "        entry_count = count_genbank_entries(taxid)\n",
        "        print(f\"Found {entry_count} strains for species: {species}.\")\n",
        "    else:\n",
        "        print(f\"No taxid found for species: {species}. Setting virus strains count to 0.\")\n",
        "        entry_count = 0\n",
        "    data.append((species, entry_count))\n",
        "    # Respect NCBI's request to not send more than 3 requests per second\n",
        "    time.sleep(0.35)\n",
        "\n",
        "# Create a DataFrame with species and their respective virus counts\n",
        "df = pd.DataFrame(data, columns=[\"Species\", \"Virus Count\"])\n",
        "df.to_csv('Spicies_counts.csv')"
      ],
      "metadata": {
        "id": "omQUZuDobe5s"
      },
      "execution_count": null,
      "outputs": []
    },
    {
      "cell_type": "code",
      "source": [
        "#Filter out 'severe acute respiratory syndrome-related coronavirus' from the dataset and fetch others\n",
        "filtered_taxa_db = taxa_db[taxa_db[\"Species\"] != \"Severe acute respiratory syndrome-related coronavirus\"][\"Species\"].unique()\n",
        "\n",
        "for species in filtered_taxa_db:\n",
        "    print(f\"Processing: {species}\")\n",
        "    taxid = get_taxid(species)\n",
        "    if taxid:\n",
        "        print(f\"Found taxid: {taxid} for species: {species}\")\n",
        "        fetch_genbank_files(taxid, filename=f\"/content/species_gb_files/{species.replace(' ', '_')}.gbk\", n=1000)\n",
        "    else:\n",
        "        print(f\"No taxid found for species: {species}\")\n",
        "    # Respect NCBI's request to not send more than 3 requests per second\n",
        "    time.sleep(0.35)"
      ],
      "metadata": {
        "id": "eebJFprundyl"
      },
      "execution_count": null,
      "outputs": []
    },
    {
      "cell_type": "code",
      "source": [
        "# Search for SARS-CoV sequences excluding SARS-CoV-2\n",
        "query = \"SARS[Organism] NOT SARS-CoV-2[Organism]\"\n",
        "handle = Entrez.esearch(db=\"nucleotide\", term=query, retmax=10000)  # Set retmax to the desired number of results\n",
        "record = Entrez.read(handle)\n",
        "id_list = record[\"IdList\"]\n",
        "\n",
        "# Fetch the sequences\n",
        "sequences = []\n",
        "for seq_id in id_list:\n",
        "    fetch_handle = Entrez.efetch(db=\"nucleotide\", id=seq_id, rettype=\"gb\", retmode=\"text\")\n",
        "    sequence = SeqIO.read(fetch_handle, \"genbank\")\n",
        "    sequences.append(sequence)\n",
        "    fetch_handle.close()\n",
        "\n",
        "# Save sequences to a file\n",
        "SeqIO.write(sequences, \"/content/species_gb_files/Severe_acute_respiratory_syndrome_related_coronavirus.gbk\", \"genbank\")"
      ],
      "metadata": {
        "id": "AA2pXMLfTz4V"
      },
      "execution_count": null,
      "outputs": []
    },
    {
      "cell_type": "code",
      "source": [
        "!zip -r /content/species_gb_files.zip /content/species_gb_files"
      ],
      "metadata": {
        "id": "uUCTxeqLGVsG"
      },
      "execution_count": null,
      "outputs": []
    },
    {
      "cell_type": "code",
      "source": [
        "from google.colab import files\n",
        "files.download('/content/species_gb_files.zip')"
      ],
      "metadata": {
        "id": "9Uu9xJh0Yndt"
      },
      "execution_count": null,
      "outputs": []
    },
    {
      "cell_type": "code",
      "source": [
        "def extract_genbank_meta(gb_file: str, virus_name: str) -> pd.DataFrame:\n",
        "    \"\"\"\n",
        "    Extract metadata from a GenBank file and store it in a pandas DataFrame.\n",
        "\n",
        "    Args:\n",
        "        gb_file (str): Path to the GenBank file.\n",
        "        virus_name (str): Name of the virus.\n",
        "\n",
        "    Returns:\n",
        "        pd.DataFrame: A DataFrame containing the extracted metadata including accession,\n",
        "                      description, collection date, geographic location, sequence length, host, and virus name.\n",
        "    \"\"\"\n",
        "\n",
        "    data_list = []\n",
        "    records = SeqIO.parse(gb_file, 'genbank')\n",
        "\n",
        "    for record in records:\n",
        "        try:\n",
        "            accession = record.id\n",
        "            description = record.description\n",
        "            collection_date = record.features[0].qualifiers.get('collection_date', '')\n",
        "            if not collection_date:\n",
        "                collection_date = record.annotations.get('date', '')\n",
        "            if isinstance(collection_date, list):\n",
        "                collection_date = collection_date[0] if collection_date else ''\n",
        "            geographic_location = record.features[0].qualifiers.get('country', [''])[0]\n",
        "            host = next((feature.qualifiers['host'][0] for feature in record.features\n",
        "                         if feature.type == 'source' and 'host' in feature.qualifiers), '')\n",
        "\n",
        "            data_list.append({\n",
        "                'Virus Name': virus_name,\n",
        "                'Accession': accession,\n",
        "                'Description': description,\n",
        "                'Collection Date': collection_date,\n",
        "                'Geographic Location': geographic_location,\n",
        "                'Sequence Length': len(record.seq),\n",
        "                'Host': host\n",
        "                })\n",
        "\n",
        "        except Exception as e:\n",
        "            print(f\"Error processing record {record.id}: {e}\")\n",
        "\n",
        "    return pd.DataFrame(data_list)\n"
      ],
      "metadata": {
        "id": "ZESZzaMHCuop"
      },
      "execution_count": null,
      "outputs": []
    },
    {
      "cell_type": "code",
      "source": [
        "!mkdir virus_meta"
      ],
      "metadata": {
        "id": "dktuO7OeZjE3"
      },
      "execution_count": null,
      "outputs": []
    },
    {
      "cell_type": "code",
      "source": [
        "# Iterate over the list of GenBank files and extract metadata\n",
        "\n",
        "directory = '/content/species_gb_files'\n",
        "file_paths = [os.path.join(directory, file) for file in os.listdir(directory) if os.path.isfile(os.path.join(directory, file))]\n",
        "\n",
        "all_meta_df = pd.DataFrame()\n",
        "\n",
        "for gb_file in file_paths:\n",
        "    # Extracting the virus name from the file path\n",
        "    virus_name = os.path.basename(gb_file).split('.')[0].replace('_', ' ')  # This assumes names like 'Alphacoronavirus_BT020.gbk'\n",
        "    df = extract_genbank_meta(gb_file, virus_name)\n",
        "    df.to_csv(f\"/content/virus_meta/{virus_name.replace(' ', '_')}.csv\")\n",
        "    all_meta_df = pd.concat([all_meta_df, df], ignore_index=True)\n",
        "all_meta_df.to_csv('all_meta_df.csv')"
      ],
      "metadata": {
        "id": "jRNeK766FsX3"
      },
      "execution_count": null,
      "outputs": []
    }
  ]
}